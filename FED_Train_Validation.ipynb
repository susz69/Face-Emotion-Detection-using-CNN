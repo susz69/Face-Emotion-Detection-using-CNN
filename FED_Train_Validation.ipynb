{
 "cells": [
  {
   "cell_type": "code",
   "execution_count": null,
   "id": "cea65667",
   "metadata": {},
   "outputs": [],
   "source": []
  },
  {
   "cell_type": "markdown",
   "id": "5d1bc629",
   "metadata": {},
   "source": [
    "# Getting Data"
   ]
  },
  {
   "cell_type": "code",
   "execution_count": 5,
   "id": "a49c3924",
   "metadata": {},
   "outputs": [
    {
     "data": {
      "text/html": [
       "<div>\n",
       "<style scoped>\n",
       "    .dataframe tbody tr th:only-of-type {\n",
       "        vertical-align: middle;\n",
       "    }\n",
       "\n",
       "    .dataframe tbody tr th {\n",
       "        vertical-align: top;\n",
       "    }\n",
       "\n",
       "    .dataframe thead th {\n",
       "        text-align: right;\n",
       "    }\n",
       "</style>\n",
       "<table border=\"1\" class=\"dataframe\">\n",
       "  <thead>\n",
       "    <tr style=\"text-align: right;\">\n",
       "      <th></th>\n",
       "      <th>emotion</th>\n",
       "      <th>pixels</th>\n",
       "      <th>Usage</th>\n",
       "    </tr>\n",
       "  </thead>\n",
       "  <tbody>\n",
       "    <tr>\n",
       "      <th>0</th>\n",
       "      <td>0</td>\n",
       "      <td>70 80 82 72 58 58 60 63 54 58 60 48 89 115 121...</td>\n",
       "      <td>Training</td>\n",
       "    </tr>\n",
       "    <tr>\n",
       "      <th>1</th>\n",
       "      <td>0</td>\n",
       "      <td>151 150 147 155 148 133 111 140 170 174 182 15...</td>\n",
       "      <td>Training</td>\n",
       "    </tr>\n",
       "    <tr>\n",
       "      <th>2</th>\n",
       "      <td>2</td>\n",
       "      <td>231 212 156 164 174 138 161 173 182 200 106 38...</td>\n",
       "      <td>Training</td>\n",
       "    </tr>\n",
       "    <tr>\n",
       "      <th>3</th>\n",
       "      <td>4</td>\n",
       "      <td>24 32 36 30 32 23 19 20 30 41 21 22 32 34 21 1...</td>\n",
       "      <td>Training</td>\n",
       "    </tr>\n",
       "    <tr>\n",
       "      <th>4</th>\n",
       "      <td>6</td>\n",
       "      <td>4 0 0 0 0 0 0 0 0 0 0 0 3 15 23 28 48 50 58 84...</td>\n",
       "      <td>Training</td>\n",
       "    </tr>\n",
       "  </tbody>\n",
       "</table>\n",
       "</div>"
      ],
      "text/plain": [
       "   emotion                                             pixels     Usage\n",
       "0        0  70 80 82 72 58 58 60 63 54 58 60 48 89 115 121...  Training\n",
       "1        0  151 150 147 155 148 133 111 140 170 174 182 15...  Training\n",
       "2        2  231 212 156 164 174 138 161 173 182 200 106 38...  Training\n",
       "3        4  24 32 36 30 32 23 19 20 30 41 21 22 32 34 21 1...  Training\n",
       "4        6  4 0 0 0 0 0 0 0 0 0 0 0 3 15 23 28 48 50 58 84...  Training"
      ]
     },
     "execution_count": 5,
     "metadata": {},
     "output_type": "execute_result"
    }
   ],
   "source": [
    "import matplotlib.pyplot as plt\n",
    "import numpy as np\n",
    "import scipy\n",
    "import pandas as pd\n",
    "df = pd.read_csv('./fer2013/fer2013.csv')\n",
    "df.head()"
   ]
  },
  {
   "cell_type": "code",
   "execution_count": 6,
   "id": "0bcc96c1",
   "metadata": {},
   "outputs": [
    {
     "name": "stdout",
     "output_type": "stream",
     "text": [
      "<class 'pandas.core.frame.DataFrame'>\n",
      "RangeIndex: 35887 entries, 0 to 35886\n",
      "Data columns (total 3 columns):\n",
      " #   Column   Non-Null Count  Dtype \n",
      "---  ------   --------------  ----- \n",
      " 0   emotion  35887 non-null  int64 \n",
      " 1   pixels   35887 non-null  object\n",
      " 2   Usage    35887 non-null  object\n",
      "dtypes: int64(1), object(2)\n",
      "memory usage: 841.2+ KB\n"
     ]
    }
   ],
   "source": [
    "df.info()"
   ]
  },
  {
   "cell_type": "code",
   "execution_count": 26,
   "id": "41eb0c05",
   "metadata": {},
   "outputs": [
    {
     "data": {
      "text/plain": [
       "Training       28709\n",
       "PublicTest      3589\n",
       "PrivateTest     3589\n",
       "Name: Usage, dtype: int64"
      ]
     },
     "execution_count": 26,
     "metadata": {},
     "output_type": "execute_result"
    }
   ],
   "source": [
    "num_classes = 7\n",
    "width = 48\n",
    "height = 48\n",
    "emotion_labels = [\"Angry\", \"Disgust\", \"Fear\", \"Happy\", \"Sad\", \"Surprise\", \"Neutral\"]\n",
    "classes = np.array((\"Angry\", \"Disgust\", \"Fear\", \"Happy\", \"Sad\", \"Surprise\", \"Neutral\"))\n",
    "df.Usage.value_counts() "
   ]
  },
  {
   "cell_type": "code",
   "execution_count": 7,
   "id": "ed17d859",
   "metadata": {},
   "outputs": [
    {
     "data": {
      "text/plain": [
       "(48, 48)"
      ]
     },
     "execution_count": 7,
     "metadata": {},
     "output_type": "execute_result"
    }
   ],
   "source": [
    "k = np.array(list(map(int,df.iloc[0,1].split(\" \"))),dtype='uint8').reshape((48,48))\n",
    "k.shape"
   ]
  },
  {
   "cell_type": "code",
   "execution_count": null,
   "id": "138140c7",
   "metadata": {},
   "outputs": [],
   "source": []
  },
  {
   "cell_type": "markdown",
   "id": "11579973",
   "metadata": {},
   "source": [
    "# Preparing Data"
   ]
  },
  {
   "cell_type": "code",
   "execution_count": 8,
   "id": "eb7e2ead",
   "metadata": {},
   "outputs": [],
   "source": [
    "X_train = []\n",
    "y_train = []\n",
    "X_test = []\n",
    "y_test = []\n",
    "for index, row in df.iterrows():\n",
    "    k = row['pixels'].split(\" \")\n",
    "    if row['Usage'] == 'Training':\n",
    "        X_train.append(np.array(k))\n",
    "        y_train.append(row['emotion'])\n",
    "    elif row['Usage'] == 'PublicTest':\n",
    "        X_test.append(np.array(k))\n",
    "        y_test.append(row['emotion'])"
   ]
  },
  {
   "cell_type": "code",
   "execution_count": 9,
   "id": "3321202f",
   "metadata": {},
   "outputs": [
    {
     "data": {
      "text/plain": [
       "array(['70', '80', '82', ..., '106', '109', '82'], dtype='<U3')"
      ]
     },
     "execution_count": 9,
     "metadata": {},
     "output_type": "execute_result"
    }
   ],
   "source": [
    "X_train[0] #consists pixel’s number is in the form of a string, converting it into numbers is easy by typecasting."
   ]
  },
  {
   "cell_type": "code",
   "execution_count": 10,
   "id": "36247294",
   "metadata": {},
   "outputs": [
    {
     "data": {
      "text/plain": [
       "<matplotlib.image.AxesImage at 0x1eded247a90>"
      ]
     },
     "execution_count": 10,
     "metadata": {},
     "output_type": "execute_result"
    },
    {
     "data": {
      "image/png": "[encoded data removed]",
      "text/plain": [
       "<Figure size 432x288 with 1 Axes>"
      ]
     },
     "metadata": {
      "needs_background": "light"
     },
     "output_type": "display_data"
    }
   ],
   "source": [
    "plt.imshow(np.array(X_train[0], dtype = 'uint8').reshape(48,48,1), cmap = 'gray') #plotting 48x48 image from pixels in selected sample"
   ]
  },
  {
   "cell_type": "code",
   "execution_count": 11,
   "id": "ccc41bac",
   "metadata": {},
   "outputs": [],
   "source": [
    "X_train = np.array(X_train, dtype = 'uint8')\n",
    "y_train = np.array(y_train, dtype = 'uint8')\n",
    "X_test = np.array(X_test, dtype = 'uint8')\n",
    "y_test = np.array(y_test, dtype = 'uint8')"
   ]
  },
  {
   "cell_type": "code",
   "execution_count": 12,
   "id": "66516447",
   "metadata": {},
   "outputs": [
    {
     "data": {
      "text/plain": [
       "(28709, 48, 48, 1)"
      ]
     },
     "execution_count": 12,
     "metadata": {},
     "output_type": "execute_result"
    }
   ],
   "source": [
    "X_train = X_train.reshape(X_train.shape[0], 48, 48, 1)\n",
    "X_test = X_test.reshape(X_test.shape[0], 48, 48, 1)\n",
    "X_train.shape"
   ]
  },
  {
   "cell_type": "code",
   "execution_count": 13,
   "id": "e73c667c",
   "metadata": {},
   "outputs": [],
   "source": [
    "import tensorflow.keras\n",
    "from tensorflow.keras.utils import to_categorical\n",
    "y_train= to_categorical(y_train, num_classes=7)\n",
    "y_test = to_categorical(y_test, num_classes=7)"
   ]
  },
  {
   "cell_type": "code",
   "execution_count": null,
   "id": "bc34fc7b",
   "metadata": {},
   "outputs": [],
   "source": []
  },
  {
   "cell_type": "markdown",
   "id": "e3bc0630",
   "metadata": {},
   "source": [
    "# Image Augmentation"
   ]
  },
  {
   "cell_type": "code",
   "execution_count": 14,
   "id": "e7bd1107",
   "metadata": {},
   "outputs": [],
   "source": [
    "from tensorflow.keras.preprocessing.image import ImageDataGenerator \n",
    "datagen = ImageDataGenerator( \n",
    "    rescale=1./255,\n",
    "    rotation_range = 10,\n",
    "    horizontal_flip = True,\n",
    "    width_shift_range=0.1,\n",
    "    height_shift_range=0.1,\n",
    "    fill_mode = 'nearest')\n",
    "\n",
    "testgen = ImageDataGenerator( \n",
    "    rescale=1./255\n",
    "    )\n",
    "datagen.fit(X_train)\n",
    "batch_size = 64 "
   ]
  },
  {
   "cell_type": "markdown",
   "id": "331aac55",
   "metadata": {},
   "source": [
    "## Fitting the generator to data"
   ]
  },
  {
   "cell_type": "code",
   "execution_count": 15,
   "id": "b4b36d20",
   "metadata": {},
   "outputs": [],
   "source": [
    "train_flow = datagen.flow(X_train, y_train, batch_size=batch_size) \n",
    "test_flow = testgen.flow(X_test, y_test, batch_size=batch_size)"
   ]
  },
  {
   "cell_type": "markdown",
   "id": "43a0be53",
   "metadata": {},
   "source": [
    "## Plotting random images of emotions after normalizing"
   ]
  },
  {
   "cell_type": "code",
   "execution_count": 16,
   "id": "427fcd3e",
   "metadata": {},
   "outputs": [
    {
     "data": {
      "image/png": "[encoded data removed]",
      "text/plain": [
       "<Figure size 432x288 with 9 Axes>"
      ]
     },
     "metadata": {
      "needs_background": "light"
     },
     "output_type": "display_data"
    }
   ],
   "source": [
    "for X_batch, y_batch in datagen.flow(X_train, y_train, batch_size=9):\n",
    "    for i in range(0, 9): \n",
    "        plt.axis('off') \n",
    "        plt.subplot(330 + 1 + i) \n",
    "        plt.imshow(X_batch[i].reshape(48, 48), cmap=plt.get_cmap('gray'))\n",
    "    plt.axis('off') \n",
    "    plt.show() \n",
    "    break"
   ]
  },
  {
   "cell_type": "code",
   "execution_count": null,
   "id": "f84c629c",
   "metadata": {},
   "outputs": [],
   "source": []
  },
  {
   "cell_type": "markdown",
   "id": "4e3913b7",
   "metadata": {},
   "source": [
    "# Building Model using CNN"
   ]
  },
  {
   "cell_type": "code",
   "execution_count": 17,
   "id": "944eb84a",
   "metadata": {},
   "outputs": [],
   "source": [
    "from tensorflow.keras.utils import plot_model\n",
    "from tensorflow.keras.models import Model\n",
    "from tensorflow.keras.layers import Input, Dense, Flatten, Dropout, BatchNormalization\n",
    "from tensorflow.keras.layers import Conv2D\n",
    "from tensorflow.keras.layers import MaxPooling2D\n",
    "from tensorflow.keras.layers import concatenate\n",
    "from tensorflow.keras.optimizers import Adam, SGD\n",
    "from tensorflow.keras.regularizers import l1, l2\n",
    "from matplotlib import pyplot as plt\n",
    "from sklearn.metrics import confusion_matrix"
   ]
  },
  {
   "cell_type": "code",
   "execution_count": 18,
   "id": "1caa5f69",
   "metadata": {},
   "outputs": [],
   "source": [
    "def FER_Model(input_shape=(48,48,1)):\n",
    "    #first input model\n",
    "    visible = Input(shape=input_shape, name='input')\n",
    "    \n",
    "    num_classes = 7\n",
    "    #1-st block\n",
    "    conv1_1 = Conv2D(64, kernel_size=3, activation='relu', padding='same', name = 'conv1_1')(visible)\n",
    "    conv1_1 = BatchNormalization()(conv1_1)\n",
    "    conv1_2 = Conv2D(64, kernel_size=3, activation='relu', padding='same', name = 'conv1_2')(conv1_1)\n",
    "    conv1_2 = BatchNormalization()(conv1_2)\n",
    "    pool1_1 = MaxPooling2D(pool_size=(2,2), name = 'pool1_1')(conv1_2)\n",
    "    drop1_1 = Dropout(0.3, name = 'drop1_1')(pool1_1)#the 2-nd block\n",
    "    conv2_1 = Conv2D(128, kernel_size=3, activation='relu', padding='same', name = 'conv2_1')(drop1_1)\n",
    "    conv2_1 = BatchNormalization()(conv2_1)\n",
    "    conv2_2 = Conv2D(128, kernel_size=3, activation='relu', padding='same', name = 'conv2_2')(conv2_1)\n",
    "    conv2_2 = BatchNormalization()(conv2_2)\n",
    "    conv2_3 = Conv2D(128, kernel_size=3, activation='relu', padding='same', name = 'conv2_3')(conv2_2)\n",
    "    conv2_2 = BatchNormalization()(conv2_3)\n",
    "    pool2_1 = MaxPooling2D(pool_size=(2,2), name = 'pool2_1')(conv2_3)\n",
    "    drop2_1 = Dropout(0.3, name = 'drop2_1')(pool2_1)#the 3-rd block\n",
    "    conv3_1 = Conv2D(256, kernel_size=3, activation='relu', padding='same', name = 'conv3_1')(drop2_1)\n",
    "    conv3_1 = BatchNormalization()(conv3_1)\n",
    "    conv3_2 = Conv2D(256, kernel_size=3, activation='relu', padding='same', name = 'conv3_2')(conv3_1)\n",
    "    conv3_2 = BatchNormalization()(conv3_2)\n",
    "    conv3_3 = Conv2D(256, kernel_size=3, activation='relu', padding='same', name = 'conv3_3')(conv3_2)\n",
    "    conv3_3 = BatchNormalization()(conv3_3)\n",
    "    conv3_4 = Conv2D(256, kernel_size=3, activation='relu', padding='same', name = 'conv3_4')(conv3_3)\n",
    "    conv3_4 = BatchNormalization()(conv3_4)\n",
    "    pool3_1 = MaxPooling2D(pool_size=(2,2), name = 'pool3_1')(conv3_4)\n",
    "    drop3_1 = Dropout(0.3, name = 'drop3_1')(pool3_1)#the 4-th block\n",
    "    conv4_1 = Conv2D(256, kernel_size=3, activation='relu', padding='same', name = 'conv4_1')(drop3_1)\n",
    "    conv4_1 = BatchNormalization()(conv4_1)\n",
    "    conv4_2 = Conv2D(256, kernel_size=3, activation='relu', padding='same', name = 'conv4_2')(conv4_1)\n",
    "    conv4_2 = BatchNormalization()(conv4_2)\n",
    "    conv4_3 = Conv2D(256, kernel_size=3, activation='relu', padding='same', name = 'conv4_3')(conv4_2)\n",
    "    conv4_3 = BatchNormalization()(conv4_3)\n",
    "    conv4_4 = Conv2D(256, kernel_size=3, activation='relu', padding='same', name = 'conv4_4')(conv4_3)\n",
    "    conv4_4 = BatchNormalization()(conv4_4)\n",
    "    pool4_1 = MaxPooling2D(pool_size=(2,2), name = 'pool4_1')(conv4_4)\n",
    "    drop4_1 = Dropout(0.3, name = 'drop4_1')(pool4_1)\n",
    "    \n",
    "    #5-th block\n",
    "    conv5_1 = Conv2D(512, kernel_size=3, activation='relu', padding='same', name = 'conv5_1')(drop4_1)\n",
    "    conv5_1 = BatchNormalization()(conv5_1)\n",
    "    conv5_2 = Conv2D(512, kernel_size=3, activation='relu', padding='same', name = 'conv5_2')(conv5_1)\n",
    "    conv5_2 = BatchNormalization()(conv5_2)\n",
    "    conv5_3 = Conv2D(512, kernel_size=3, activation='relu', padding='same', name = 'conv5_3')(conv5_2)\n",
    "    conv5_3 = BatchNormalization()(conv5_3)\n",
    "    conv5_4 = Conv2D(512, kernel_size=3, activation='relu', padding='same', name = 'conv5_4')(conv5_3)\n",
    "    conv5_3 = BatchNormalization()(conv5_3)\n",
    "    pool5_1 = MaxPooling2D(pool_size=(2,2), name = 'pool5_1')(conv5_4)\n",
    "    drop5_1 = Dropout(0.3, name = 'drop5_1')(pool5_1)#Flatten and output\n",
    "    flatten = Flatten(name = 'flatten')(drop5_1)\n",
    "    ouput = Dense(num_classes, activation='softmax', name = 'output')(flatten)# create model \n",
    "    model = Model(inputs =visible, outputs = ouput)\n",
    "    \n",
    "    #summary layers\n",
    "    print(model.summary())\n",
    "    \n",
    "    return model"
   ]
  },
  {
   "cell_type": "markdown",
   "id": "2692a05a",
   "metadata": {},
   "source": [
    "## Compiling the model"
   ]
  },
  {
   "cell_type": "code",
   "execution_count": 19,
   "id": "ebb7c833",
   "metadata": {},
   "outputs": [
    {
     "name": "stdout",
     "output_type": "stream",
     "text": [
      "Model: \"model_1\"\n",
      "_________________________________________________________________\n",
      "Layer (type)                 Output Shape              Param #   \n",
      "=================================================================\n",
      "input (InputLayer)           [(None, 48, 48, 1)]       0         \n",
      "_________________________________________________________________\n",
      "conv1_1 (Conv2D)             (None, 48, 48, 64)        640       \n",
      "_________________________________________________________________\n",
      "batch_normalization_17 (Batc (None, 48, 48, 64)        256       \n",
      "_________________________________________________________________\n",
      "conv1_2 (Conv2D)             (None, 48, 48, 64)        36928     \n",
      "_________________________________________________________________\n",
      "batch_normalization_18 (Batc (None, 48, 48, 64)        256       \n",
      "_________________________________________________________________\n",
      "pool1_1 (MaxPooling2D)       (None, 24, 24, 64)        0         \n",
      "_________________________________________________________________\n",
      "drop1_1 (Dropout)            (None, 24, 24, 64)        0         \n",
      "_________________________________________________________________\n",
      "conv2_1 (Conv2D)             (None, 24, 24, 128)       73856     \n",
      "_________________________________________________________________\n",
      "batch_normalization_19 (Batc (None, 24, 24, 128)       512       \n",
      "_________________________________________________________________\n",
      "conv2_2 (Conv2D)             (None, 24, 24, 128)       147584    \n",
      "_________________________________________________________________\n",
      "batch_normalization_20 (Batc (None, 24, 24, 128)       512       \n",
      "_________________________________________________________________\n",
      "conv2_3 (Conv2D)             (None, 24, 24, 128)       147584    \n",
      "_________________________________________________________________\n",
      "pool2_1 (MaxPooling2D)       (None, 12, 12, 128)       0         \n",
      "_________________________________________________________________\n",
      "drop2_1 (Dropout)            (None, 12, 12, 128)       0         \n",
      "_________________________________________________________________\n",
      "conv3_1 (Conv2D)             (None, 12, 12, 256)       295168    \n",
      "_________________________________________________________________\n",
      "batch_normalization_22 (Batc (None, 12, 12, 256)       1024      \n",
      "_________________________________________________________________\n",
      "conv3_2 (Conv2D)             (None, 12, 12, 256)       590080    \n",
      "_________________________________________________________________\n",
      "batch_normalization_23 (Batc (None, 12, 12, 256)       1024      \n",
      "_________________________________________________________________\n",
      "conv3_3 (Conv2D)             (None, 12, 12, 256)       590080    \n",
      "_________________________________________________________________\n",
      "batch_normalization_24 (Batc (None, 12, 12, 256)       1024      \n",
      "_________________________________________________________________\n",
      "conv3_4 (Conv2D)             (None, 12, 12, 256)       590080    \n",
      "_________________________________________________________________\n",
      "batch_normalization_25 (Batc (None, 12, 12, 256)       1024      \n",
      "_________________________________________________________________\n",
      "pool3_1 (MaxPooling2D)       (None, 6, 6, 256)         0         \n",
      "_________________________________________________________________\n",
      "drop3_1 (Dropout)            (None, 6, 6, 256)         0         \n",
      "_________________________________________________________________\n",
      "conv4_1 (Conv2D)             (None, 6, 6, 256)         590080    \n",
      "_________________________________________________________________\n",
      "batch_normalization_26 (Batc (None, 6, 6, 256)         1024      \n",
      "_________________________________________________________________\n",
      "conv4_2 (Conv2D)             (None, 6, 6, 256)         590080    \n",
      "_________________________________________________________________\n",
      "batch_normalization_27 (Batc (None, 6, 6, 256)         1024      \n",
      "_________________________________________________________________\n",
      "conv4_3 (Conv2D)             (None, 6, 6, 256)         590080    \n",
      "_________________________________________________________________\n",
      "batch_normalization_28 (Batc (None, 6, 6, 256)         1024      \n",
      "_________________________________________________________________\n",
      "conv4_4 (Conv2D)             (None, 6, 6, 256)         590080    \n",
      "_________________________________________________________________\n",
      "batch_normalization_29 (Batc (None, 6, 6, 256)         1024      \n",
      "_________________________________________________________________\n",
      "pool4_1 (MaxPooling2D)       (None, 3, 3, 256)         0         \n",
      "_________________________________________________________________\n",
      "drop4_1 (Dropout)            (None, 3, 3, 256)         0         \n",
      "_________________________________________________________________\n",
      "conv5_1 (Conv2D)             (None, 3, 3, 512)         1180160   \n",
      "_________________________________________________________________\n",
      "batch_normalization_30 (Batc (None, 3, 3, 512)         2048      \n",
      "_________________________________________________________________\n",
      "conv5_2 (Conv2D)             (None, 3, 3, 512)         2359808   \n",
      "_________________________________________________________________\n",
      "batch_normalization_31 (Batc (None, 3, 3, 512)         2048      \n",
      "_________________________________________________________________\n",
      "conv5_3 (Conv2D)             (None, 3, 3, 512)         2359808   \n",
      "_________________________________________________________________\n",
      "batch_normalization_32 (Batc (None, 3, 3, 512)         2048      \n",
      "_________________________________________________________________\n",
      "conv5_4 (Conv2D)             (None, 3, 3, 512)         2359808   \n",
      "_________________________________________________________________\n",
      "pool5_1 (MaxPooling2D)       (None, 1, 1, 512)         0         \n",
      "_________________________________________________________________\n",
      "drop5_1 (Dropout)            (None, 1, 1, 512)         0         \n",
      "_________________________________________________________________\n",
      "flatten (Flatten)            (None, 512)               0         \n",
      "_________________________________________________________________\n",
      "output (Dense)               (None, 7)                 3591      \n",
      "=================================================================\n",
      "Total params: 13,111,367\n",
      "Trainable params: 13,103,431\n",
      "Non-trainable params: 7,936\n",
      "_________________________________________________________________\n",
      "None\n"
     ]
    },
    {
     "name": "stderr",
     "output_type": "stream",
     "text": [
      "C:\\Users\\assas\\.conda\\envs\\tf_gpu_env\\lib\\site-packages\\tensorflow\\python\\keras\\optimizer_v2\\optimizer_v2.py:374: UserWarning: The `lr` argument is deprecated, use `learning_rate` instead.\n",
      "  warnings.warn(\n"
     ]
    }
   ],
   "source": [
    "model = FER_Model()\n",
    "opt = Adam(lr=0.0001, decay=1e-6)\n",
    "model.compile(loss='categorical_crossentropy', optimizer=opt, metrics=['accuracy'])"
   ]
  },
  {
   "cell_type": "markdown",
   "id": "c0937324",
   "metadata": {},
   "source": [
    "# Training the model"
   ]
  },
  {
   "cell_type": "code",
   "execution_count": 20,
   "id": "180cec27",
   "metadata": {},
   "outputs": [
    {
     "name": "stderr",
     "output_type": "stream",
     "text": [
      "C:\\Users\\assas\\.conda\\envs\\tf_gpu_env\\lib\\site-packages\\tensorflow\\python\\keras\\engine\\training.py:1969: UserWarning: `Model.fit_generator` is deprecated and will be removed in a future version. Please use `Model.fit`, which supports generators.\n",
      "  warnings.warn('`Model.fit_generator` is deprecated and '\n"
     ]
    },
    {
     "name": "stdout",
     "output_type": "stream",
     "text": [
      "Epoch 1/50\n",
      "448/448 [==============================] - 97s 188ms/step - loss: 2.0199 - accuracy: 0.2179 - val_loss: 1.8766 - val_accuracy: 0.2159\n",
      "Epoch 2/50\n",
      "448/448 [==============================] - 81s 180ms/step - loss: 1.7800 - accuracy: 0.2580 - val_loss: 1.8325 - val_accuracy: 0.2705\n",
      "Epoch 3/50\n",
      "448/448 [==============================] - 81s 181ms/step - loss: 1.7288 - accuracy: 0.3007 - val_loss: 1.7450 - val_accuracy: 0.3363\n",
      "Epoch 4/50\n",
      "448/448 [==============================] - 81s 181ms/step - loss: 1.6638 - accuracy: 0.3390 - val_loss: 1.6538 - val_accuracy: 0.3597\n",
      "Epoch 5/50\n",
      "448/448 [==============================] - 81s 181ms/step - loss: 1.5943 - accuracy: 0.3734 - val_loss: 1.5519 - val_accuracy: 0.4082\n",
      "Epoch 6/50\n",
      "448/448 [==============================] - 81s 181ms/step - loss: 1.5274 - accuracy: 0.4029 - val_loss: 1.4992 - val_accuracy: 0.4221\n",
      "Epoch 7/50\n",
      "448/448 [==============================] - 81s 181ms/step - loss: 1.4680 - accuracy: 0.4295 - val_loss: 1.4837 - val_accuracy: 0.4489\n",
      "Epoch 8/50\n",
      "448/448 [==============================] - 81s 180ms/step - loss: 1.4054 - accuracy: 0.4555 - val_loss: 1.3686 - val_accuracy: 0.4784\n",
      "Epoch 9/50\n",
      "448/448 [==============================] - 81s 181ms/step - loss: 1.3477 - accuracy: 0.4846 - val_loss: 1.2894 - val_accuracy: 0.5183\n",
      "Epoch 10/50\n",
      "448/448 [==============================] - 81s 182ms/step - loss: 1.2969 - accuracy: 0.5043 - val_loss: 1.2349 - val_accuracy: 0.5411\n",
      "Epoch 11/50\n",
      "448/448 [==============================] - 81s 182ms/step - loss: 1.2482 - accuracy: 0.5224 - val_loss: 1.1808 - val_accuracy: 0.5570\n",
      "Epoch 12/50\n",
      "448/448 [==============================] - 82s 182ms/step - loss: 1.2169 - accuracy: 0.5364 - val_loss: 1.1931 - val_accuracy: 0.5559\n",
      "Epoch 13/50\n",
      "448/448 [==============================] - 82s 182ms/step - loss: 1.1886 - accuracy: 0.5468 - val_loss: 1.1918 - val_accuracy: 0.5587\n",
      "Epoch 14/50\n",
      "448/448 [==============================] - 82s 182ms/step - loss: 1.1607 - accuracy: 0.5589 - val_loss: 1.1279 - val_accuracy: 0.5821\n",
      "Epoch 15/50\n",
      "448/448 [==============================] - 81s 182ms/step - loss: 1.1282 - accuracy: 0.5727 - val_loss: 1.1941 - val_accuracy: 0.5573\n",
      "Epoch 16/50\n",
      "448/448 [==============================] - 82s 182ms/step - loss: 1.1077 - accuracy: 0.5822 - val_loss: 1.1170 - val_accuracy: 0.5779\n",
      "Epoch 17/50\n",
      "448/448 [==============================] - 81s 182ms/step - loss: 1.0859 - accuracy: 0.5922 - val_loss: 1.0858 - val_accuracy: 0.6010\n",
      "Epoch 18/50\n",
      "448/448 [==============================] - 81s 182ms/step - loss: 1.0673 - accuracy: 0.5978 - val_loss: 1.0980 - val_accuracy: 0.5857\n",
      "Epoch 19/50\n",
      "448/448 [==============================] - 81s 181ms/step - loss: 1.0473 - accuracy: 0.6022 - val_loss: 1.0638 - val_accuracy: 0.6057\n",
      "Epoch 20/50\n",
      "448/448 [==============================] - 81s 181ms/step - loss: 1.0275 - accuracy: 0.6113 - val_loss: 1.0537 - val_accuracy: 0.6021\n",
      "Epoch 21/50\n",
      "448/448 [==============================] - 81s 181ms/step - loss: 1.0117 - accuracy: 0.6200 - val_loss: 1.0440 - val_accuracy: 0.6160\n",
      "Epoch 22/50\n",
      "448/448 [==============================] - 81s 181ms/step - loss: 0.9953 - accuracy: 0.6245 - val_loss: 1.0470 - val_accuracy: 0.6197\n",
      "Epoch 23/50\n",
      "448/448 [==============================] - 81s 181ms/step - loss: 0.9830 - accuracy: 0.6334 - val_loss: 1.0926 - val_accuracy: 0.6032\n",
      "Epoch 24/50\n",
      "448/448 [==============================] - 81s 181ms/step - loss: 0.9657 - accuracy: 0.6377 - val_loss: 1.0615 - val_accuracy: 0.6024\n",
      "Epoch 25/50\n",
      "448/448 [==============================] - 81s 181ms/step - loss: 0.9574 - accuracy: 0.6419 - val_loss: 1.0256 - val_accuracy: 0.6300\n",
      "Epoch 26/50\n",
      "448/448 [==============================] - 81s 181ms/step - loss: 0.9407 - accuracy: 0.6469 - val_loss: 1.0164 - val_accuracy: 0.6230\n",
      "Epoch 27/50\n",
      "448/448 [==============================] - 81s 181ms/step - loss: 0.9286 - accuracy: 0.6515 - val_loss: 1.0271 - val_accuracy: 0.6286\n",
      "Epoch 28/50\n",
      "448/448 [==============================] - 81s 181ms/step - loss: 0.9096 - accuracy: 0.6606 - val_loss: 1.0310 - val_accuracy: 0.6252\n",
      "Epoch 29/50\n",
      "448/448 [==============================] - 81s 181ms/step - loss: 0.8989 - accuracy: 0.6628 - val_loss: 1.0076 - val_accuracy: 0.6317\n",
      "Epoch 30/50\n",
      "448/448 [==============================] - 81s 181ms/step - loss: 0.8904 - accuracy: 0.6701 - val_loss: 0.9476 - val_accuracy: 0.6520\n",
      "Epoch 31/50\n",
      "448/448 [==============================] - 81s 181ms/step - loss: 0.8728 - accuracy: 0.6710 - val_loss: 1.0437 - val_accuracy: 0.6247\n",
      "Epoch 32/50\n",
      "448/448 [==============================] - 81s 181ms/step - loss: 0.8604 - accuracy: 0.6750 - val_loss: 0.9955 - val_accuracy: 0.6353\n",
      "Epoch 33/50\n",
      "448/448 [==============================] - 81s 181ms/step - loss: 0.8538 - accuracy: 0.6788 - val_loss: 0.9933 - val_accuracy: 0.6339\n",
      "Epoch 34/50\n",
      "448/448 [==============================] - 81s 181ms/step - loss: 0.8391 - accuracy: 0.6850 - val_loss: 0.9995 - val_accuracy: 0.6562\n",
      "Epoch 35/50\n",
      "448/448 [==============================] - 81s 181ms/step - loss: 0.8281 - accuracy: 0.6903 - val_loss: 1.0157 - val_accuracy: 0.6386\n",
      "Epoch 36/50\n",
      "448/448 [==============================] - 81s 181ms/step - loss: 0.8125 - accuracy: 0.6953 - val_loss: 0.9675 - val_accuracy: 0.6439\n",
      "Epoch 37/50\n",
      "448/448 [==============================] - 81s 181ms/step - loss: 0.7979 - accuracy: 0.7027 - val_loss: 0.9996 - val_accuracy: 0.6489\n",
      "Epoch 38/50\n",
      "448/448 [==============================] - 81s 181ms/step - loss: 0.7936 - accuracy: 0.7028 - val_loss: 0.9541 - val_accuracy: 0.6637\n",
      "Epoch 39/50\n",
      "448/448 [==============================] - 81s 181ms/step - loss: 0.7777 - accuracy: 0.7071 - val_loss: 0.9735 - val_accuracy: 0.6587\n",
      "Epoch 40/50\n",
      "448/448 [==============================] - 81s 181ms/step - loss: 0.7702 - accuracy: 0.7115 - val_loss: 1.0062 - val_accuracy: 0.6514\n",
      "Epoch 41/50\n",
      "448/448 [==============================] - 81s 181ms/step - loss: 0.7587 - accuracy: 0.7167 - val_loss: 0.9696 - val_accuracy: 0.6637\n",
      "Epoch 42/50\n",
      "448/448 [==============================] - 81s 181ms/step - loss: 0.7505 - accuracy: 0.7214 - val_loss: 0.9551 - val_accuracy: 0.6684\n",
      "Epoch 43/50\n",
      "448/448 [==============================] - 81s 181ms/step - loss: 0.7389 - accuracy: 0.7262 - val_loss: 0.9941 - val_accuracy: 0.6531\n",
      "Epoch 44/50\n",
      "448/448 [==============================] - 81s 181ms/step - loss: 0.7255 - accuracy: 0.7323 - val_loss: 0.9417 - val_accuracy: 0.6659\n",
      "Epoch 45/50\n",
      "448/448 [==============================] - 81s 181ms/step - loss: 0.7204 - accuracy: 0.7315 - val_loss: 0.9787 - val_accuracy: 0.6659\n",
      "Epoch 46/50\n",
      "448/448 [==============================] - 81s 181ms/step - loss: 0.7103 - accuracy: 0.7337 - val_loss: 0.9484 - val_accuracy: 0.6729\n",
      "Epoch 47/50\n",
      "448/448 [==============================] - 81s 181ms/step - loss: 0.6967 - accuracy: 0.7408 - val_loss: 1.0062 - val_accuracy: 0.6612\n",
      "Epoch 48/50\n",
      "448/448 [==============================] - 81s 181ms/step - loss: 0.6855 - accuracy: 0.7457 - val_loss: 0.9548 - val_accuracy: 0.6709\n",
      "Epoch 49/50\n",
      "448/448 [==============================] - 81s 181ms/step - loss: 0.6765 - accuracy: 0.7467 - val_loss: 1.0035 - val_accuracy: 0.6615\n",
      "Epoch 50/50\n",
      "448/448 [==============================] - 81s 181ms/step - loss: 0.6726 - accuracy: 0.7475 - val_loss: 0.9760 - val_accuracy: 0.6695\n"
     ]
    }
   ],
   "source": [
    "num_epochs = 50\n",
    "history = model.fit_generator(train_flow, \n",
    "                    steps_per_epoch=len(X_train) / batch_size, \n",
    "                    epochs=num_epochs,  \n",
    "                    verbose=1,  \n",
    "                    validation_data=test_flow,\n",
    "                    validation_steps=len(X_test) / batch_size)"
   ]
  },
  {
   "cell_type": "markdown",
   "id": "b0603a6b",
   "metadata": {},
   "source": [
    "# Validation"
   ]
  },
  {
   "cell_type": "code",
   "execution_count": 21,
   "id": "7bbc3190",
   "metadata": {},
   "outputs": [
    {
     "data": {
      "text/plain": [
       "<Figure size 432x288 with 0 Axes>"
      ]
     },
     "execution_count": 21,
     "metadata": {},
     "output_type": "execute_result"
    },
    {
     "data": {
      "image/png": "[encoded data removed]",
      "text/plain": [
       "<Figure size 432x288 with 1 Axes>"
      ]
     },
     "metadata": {
      "needs_background": "light"
     },
     "output_type": "display_data"
    },
    {
     "data": {
      "image/png": "[encoded data removed]",
      "text/plain": [
       "<Figure size 432x288 with 1 Axes>"
      ]
     },
     "metadata": {
      "needs_background": "light"
     },
     "output_type": "display_data"
    },
    {
     "data": {
      "text/plain": [
       "<Figure size 432x288 with 0 Axes>"
      ]
     },
     "metadata": {},
     "output_type": "display_data"
    }
   ],
   "source": [
    "%matplotlib inline\n",
    "\n",
    "train_loss=history.history['loss']\n",
    "val_loss=history.history['val_loss']\n",
    "train_acc=history.history['accuracy']\n",
    "val_acc=history.history['val_accuracy']\n",
    "\n",
    "epochs = range(len(train_acc))\n",
    "\n",
    "plt.plot(epochs,train_loss,'r', label='train_loss')\n",
    "plt.plot(epochs,val_loss,'b', label='val_loss')\n",
    "plt.title('train_loss vs val_loss')\n",
    "plt.xlabel('epoch')\n",
    "plt.ylabel('loss')\n",
    "plt.legend()\n",
    "plt.figure()\n",
    "\n",
    "plt.plot(epochs,train_acc,'r', label='train_acc')\n",
    "plt.plot(epochs,val_acc,'b', label='val_acc')\n",
    "plt.title('train_acc vs val_acc')\n",
    "plt.xlabel('epoch')\n",
    "plt.ylabel('accuracy')\n",
    "plt.legend()\n",
    "plt.figure()"
   ]
  },
  {
   "cell_type": "code",
   "execution_count": 22,
   "id": "08a790ac",
   "metadata": {},
   "outputs": [],
   "source": [
    "model.save('./working/Fer2013.h5') #backing up working model and weights"
   ]
  },
  {
   "cell_type": "code",
   "execution_count": 23,
   "id": "ba700242",
   "metadata": {},
   "outputs": [
    {
     "name": "stdout",
     "output_type": "stream",
     "text": [
      "113/113 [==============================] - 5s 35ms/step - loss: 0.9760 - accuracy: 0.6695 0s - loss: 0.9777 - \n",
      "Test Loss 0.9760403633117676\n",
      "Test Acc: 0.6695458292961121\n"
     ]
    }
   ],
   "source": [
    "loss = model.evaluate(X_test/255., y_test) \n",
    "print(\"Test Loss \" + str(loss[0]))\n",
    "print(\"Test Acc: \" + str(loss[1]))"
   ]
  },
  {
   "cell_type": "code",
   "execution_count": 28,
   "id": "50bf41cd",
   "metadata": {},
   "outputs": [
    {
     "name": "stdout",
     "output_type": "stream",
     "text": [
      "113/113 [==============================] - 3s 29ms/step\n"
     ]
    },
    {
     "data": {
      "image/png": "[encoded data removed]",
      "text/plain": [
       "<Figure size 432x288 with 2 Axes>"
      ]
     },
     "metadata": {
      "needs_background": "light"
     },
     "output_type": "display_data"
    }
   ],
   "source": [
    "import itertools\n",
    "def plot_confusion_matrix(y_test, y_pred, classes,\n",
    "                          normalize=False,\n",
    "                          title='Unnormalized confusion matrix',\n",
    "                          cmap=plt.cm.Blues):\n",
    "    cm = confusion_matrix(y_test, y_pred)\n",
    "    \n",
    "    if normalize:\n",
    "        cm = np.round(cm.astype('float') / cm.sum(axis=1)[:, np.newaxis], 2)\n",
    "        \n",
    "    np.set_printoptions(precision=2)\n",
    "        \n",
    "    plt.imshow(cm, interpolation='nearest', cmap=cmap)\n",
    "    plt.title(title)\n",
    "    plt.colorbar()\n",
    "    tick_marks = np.arange(len(classes))\n",
    "    plt.xticks(tick_marks, classes, rotation=45)\n",
    "    plt.yticks(tick_marks, classes)\n",
    "\n",
    "    thresh = cm.min() + (cm.max() - cm.min()) / 2.\n",
    "    for i, j in itertools.product(range(cm.shape[0]), range(cm.shape[1])):\n",
    "        plt.text(j, i, cm[i, j],\n",
    "                 horizontalalignment=\"center\",\n",
    "                 color=\"white\" if cm[i, j] > thresh else \"black\")\n",
    "\n",
    "    plt.tight_layout()\n",
    "    plt.ylabel('True expression')\n",
    "    plt.xlabel('Predicted expression')\n",
    "    plt.show()\n",
    "y_pred_ = model.predict(X_test/255., verbose=1)\n",
    "y_pred = np.argmax(y_pred_, axis=1)\n",
    "t_te = np.argmax(y_test, axis=1)\n",
    "fig = plot_confusion_matrix(y_test=t_te, y_pred=y_pred,\n",
    "                      classes=classes,\n",
    "                      normalize=True,\n",
    "                      cmap=plt.cm.Greys,   title='Average accuracy: ' + str(np.sum(y_pred == t_te)/len(t_te)) + '\\n')"
   ]
  },
  {
   "cell_type": "markdown",
   "id": "058c629d",
   "metadata": {},
   "source": [
    "# Saving the model"
   ]
  },
  {
   "cell_type": "code",
   "execution_count": 29,
   "id": "62f3b6b2",
   "metadata": {},
   "outputs": [
    {
     "name": "stdout",
     "output_type": "stream",
     "text": [
      "Saved model to disk\n"
     ]
    }
   ],
   "source": [
    "model_json = model.to_json()\n",
    "with open(\"model.json\", \"w\") as json_file:\n",
    "    json_file.write(model_json)\n",
    "model.save_weights(\"model.h5\")\n",
    "print(\"Saved model to disk\")"
   ]
  },
  {
   "cell_type": "code",
   "execution_count": null,
   "id": "b787837c",
   "metadata": {},
   "outputs": [],
   "source": []
  }
 ],
 "metadata": {
  "kernelspec": {
   "display_name": "Python 3 (ipykernel)",
   "language": "python",
   "name": "python3"
  },
  "language_info": {
   "codemirror_mode": {
    "name": "ipython",
    "version": 3
   },
   "file_extension": ".py",
   "mimetype": "text/x-python",
   "name": "python",
   "nbconvert_exporter": "python",
   "pygments_lexer": "ipython3",
   "version": "3.9.7"
  }
 },
 "nbformat": 4,
 "nbformat_minor": 5
}
